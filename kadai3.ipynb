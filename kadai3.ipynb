{
  "nbformat": 4,
  "nbformat_minor": 0,
  "metadata": {
    "colab": {
      "provenance": []
    },
    "kernelspec": {
      "name": "python3",
      "display_name": "Python 3"
    },
    "language_info": {
      "name": "python"
    }
  },
  "cells": [
    {
      "cell_type": "code",
      "execution_count": 16,
      "metadata": {
        "id": "R8xzY_J_EC7L"
      },
      "outputs": [],
      "source": [
        "import openpyxl\n",
        "import pandas as pd\n",
        "from openpyxl.styles import PatternFill\n",
        "\n",
        "# 2つのファイルを準備する\n",
        "\n",
        "file_list = ['2022_年間売上表.xlsx', '2023_年間売上表.xlsx']\n",
        "\n",
        "# 空のデータフレームを作成\n",
        "\n",
        "df = pd.DataFrame()\n",
        "\n",
        "for file_name in file_list:\n",
        "    # Excelファイルを読み込む\n",
        "    temp_df = pd.read_excel(file_name, header=0)\n",
        "\n",
        "    # concat()でデータフレームを連結\n",
        "    df = pd.concat([df, temp_df], ignore_index=True)\n",
        "\n",
        "# 「商品」「売上年」ごとにグループ化し、合計金額を集約させる\n",
        "result = df.groupby(['商品','売上年'])['金額（千円）'].sum().reset_index()\n",
        "\n",
        "# 「売上集計表.xlsx」のファイルを作成し、保存する\n",
        "writer = pd.ExcelWriter('売上集計表.xlsx')\n",
        "\n",
        "result.to_excel(writer, sheet_name='Sheet1', index=False)\n",
        "\n",
        "writer.close()\n",
        "\n",
        "# openpyxlを使って、ヘッダー部分に薄いグレーを塗る\n",
        "\n",
        "book = openpyxl.load_workbook('売上集計表.xlsx')\n",
        "\n",
        "sheet = book.active\n",
        "\n",
        "header_fill = PatternFill(patternType='solid', fgColor='F2F2F2')\n",
        "\n",
        "for cell in sheet[1]:\n",
        "    cell.fill = header_fill\n",
        "\n",
        "book.save ('売上集計表.xlsx')"
      ]
    }
  ]
}