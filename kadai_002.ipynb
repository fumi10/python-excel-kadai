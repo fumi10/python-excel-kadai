{
  "nbformat": 4,
  "nbformat_minor": 0,
  "metadata": {
    "colab": {
      "provenance": []
    },
    "kernelspec": {
      "name": "python3",
      "display_name": "Python 3"
    },
    "language_info": {
      "name": "python"
    }
  },
  "cells": [
    {
      "cell_type": "code",
      "execution_count": null,
      "metadata": {
        "id": "ng6wPb0jhaYt"
      },
      "outputs": [],
      "source": [
        "import pandas as pd\n",
        "\n",
        "# データフレームの作成\n",
        "df = pd.DataFrame({\n",
        "    '日付':['2023-05-17','2023-05-18','2023-05-19','2023-05-20','2023-05-21'],\n",
        "    '社員名':['山田','佐藤','鈴木','田中','高橋'],\n",
        "    '売上':[100,200,150,300,250],\n",
        "    '部門':['メーカー','代理店','メーカー','商社','代理店'],\n",
        "})\n",
        "\n",
        "# 「平均売上」の平均を求めて新しい列を作成\n",
        "df['平均売上'] = df['売上'].mean()\n",
        "\n",
        "# 平均金額を入れる、average_sales変数を作成\n",
        "average_sales = df['売上'].mean()\n",
        "\n",
        "# 条件分岐をして業績ランクを設定する「performance」関数を作成\n",
        "def performance(sales):\n",
        "    result = ''\n",
        "    if sales >= average_sales + 50:\n",
        "        result = 'A'\n",
        "    elif sales >= average_sales:\n",
        "        result = 'B'\n",
        "    elif sales < average_sales:\n",
        "        result = 'C'\n",
        "    return result\n",
        "\n",
        "# 「業績ランク」列を作成し、関数「「performance」」を低起用して値を設定\n",
        "df['業績ランク'] = df['売上'].apply(performance)\n",
        "\n",
        "# Excelファイルを作成する\n",
        "writer = pd.ExcelWriter('業績.xlsx')\n",
        "\n",
        "# DataFrameオブジェクトをExcelファイルに書き込む\n",
        "df.to_excel(writer, sheet_name = 'sheet1', index = False)\n",
        "\n",
        "# Excelファイルを保存する\n",
        "writer.close()"
      ]
    }
  ]
}