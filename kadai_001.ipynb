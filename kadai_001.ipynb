{
  "nbformat": 4,
  "nbformat_minor": 0,
  "metadata": {
    "colab": {
      "provenance": []
    },
    "kernelspec": {
      "name": "python3",
      "display_name": "Python 3"
    },
    "language_info": {
      "name": "python"
    }
  },
  "cells": [
    {
      "cell_type": "code",
      "execution_count": 2,
      "metadata": {
        "id": "htYpy5znuzga"
      },
      "outputs": [],
      "source": [
        "import openpyxl\n",
        "import time\n",
        "\n",
        "workbook = openpyxl.Workbook()\n",
        "\n",
        "ws = workbook.active\n",
        "\n",
        "ws['B2'] = \"請求書\"\n",
        "\n",
        "data = [\n",
        "    \"株式会社ABC\",\n",
        "    \"〒101-0022 東京都千代田区神田練塀町300\",\n",
        "    \"TEL:03-1234-5678 FAX:03-1234-5678\",\n",
        "    \"担当者名:鈴木一郎 様\"]\n",
        "\n",
        "products = [\n",
        "    (\"商品A\", 2, 10000),\n",
        "    (\"商品B\", 1, 15000),\n",
        "]\n",
        "\n",
        "row_start = 4\n",
        "col =2\n",
        "\n",
        "for i, value in enumerate(data):\n",
        "    ws.cell(row = row_start + i, column = col, value = value)\n",
        "\n",
        "ws['F4'] = \"No.\"\n",
        "ws['G4'] = \"0001\"\n",
        "ws['F5'] = \"日付\"\n",
        "ws['G5'] = time.strftime(\"%Y/%m/%d\")\n",
        "\n",
        "headers = [\"商品名\", \"数量\", \"単価\", \"金額\"]\n",
        "for col, header in enumerate(headers, start =2):\n",
        "    ws.cell(row = 10, column=col, value=header)\n",
        "\n",
        "total = 0\n",
        "for i , (name, num, price) in enumerate(products):\n",
        "    row = i + 11\n",
        "\n",
        "    ws.cell(row = row, column = 2, value = name)\n",
        "    ws.cell(row = row, column = 3, value = num)\n",
        "    ws.cell(row = row, column = 4, value = price)\n",
        "\n",
        "    amount = num * price\n",
        "    ws.cell(row=row, column =5, value = amount)\n",
        "\n",
        "    total += amount\n",
        "\n",
        "total_row = row + 1\n",
        "\n",
        "ws.cell(row = total_row, column = 5, value = total)\n",
        "\n",
        "ws['B15'] = \"小計\"\n",
        "ws['B16'] = \"消費税\"\n",
        "ws['B17'] = \"合計\"\n",
        "\n",
        "ws['E15'] = total\n",
        "ws['E16'] = \"=E15*0.1\"\n",
        "ws['E17'] = \"=E15+E16\"\n",
        "\n",
        "workbook.save('請求書_20250215.xlsx')"
      ]
    }
  ]
}